{
  "nbformat": 4,
  "nbformat_minor": 0,
  "metadata": {
    "colab": {
      "provenance": [],
      "authorship_tag": "ABX9TyNjbuULOAHM5F2TqyoPJU7x",
      "include_colab_link": true
    },
    "kernelspec": {
      "name": "python3",
      "display_name": "Python 3"
    },
    "language_info": {
      "name": "python"
    }
  },
  "cells": [
    {
      "cell_type": "markdown",
      "metadata": {
        "id": "view-in-github",
        "colab_type": "text"
      },
      "source": [
        "<a href=\"https://colab.research.google.com/github/poojashedge12/Statistical-Concepts-with-Python/blob/main/Descriptive_Statistics_Practise_with_python.ipynb\" target=\"_parent\"><img src=\"https://colab.research.google.com/assets/colab-badge.svg\" alt=\"Open In Colab\"/></a>"
      ]
    },
    {
      "cell_type": "code",
      "source": [],
      "metadata": {
        "id": "bWakcapIFdjL"
      },
      "execution_count": null,
      "outputs": []
    },
    {
      "cell_type": "markdown",
      "source": [
        "## 📗 **Mean**"
      ],
      "metadata": {
        "id": "Pps6eW1GQHdC"
      }
    },
    {
      "cell_type": "markdown",
      "source": [
        "## 📖 **Mean by creating a function**\n",
        "\n"
      ],
      "metadata": {
        "id": "DBx6-eW8FZUi"
      }
    },
    {
      "cell_type": "markdown",
      "source": [],
      "metadata": {
        "id": "mnjsnBYJQNdR"
      }
    },
    {
      "cell_type": "code",
      "source": [
        "# creating a function for mean\n",
        "def mean(l):\n",
        "  sum1 =sum(l)\n",
        "  n= len(l)\n",
        "  meanvalue=sum1/n\n",
        "  return f\"Mean is {meanvalue}\""
      ],
      "metadata": {
        "id": "zL882DuiFZEs"
      },
      "execution_count": null,
      "outputs": []
    },
    {
      "cell_type": "code",
      "source": [
        "p=[10,11,10,9,10,10,12,10,10,10,10]\n",
        "mean(p)"
      ],
      "metadata": {
        "colab": {
          "base_uri": "https://localhost:8080/",
          "height": 36
        },
        "id": "hL9z80EgFY0d",
        "outputId": "e92182b8-f0bd-46ec-e372-22aced1bd380"
      },
      "execution_count": null,
      "outputs": [
        {
          "output_type": "execute_result",
          "data": {
            "text/plain": [
              "'Mean is 10.181818181818182'"
            ],
            "application/vnd.google.colaboratory.intrinsic+json": {
              "type": "string"
            }
          },
          "metadata": {},
          "execution_count": 2
        }
      ]
    },
    {
      "cell_type": "markdown",
      "source": [
        "## 📖 **Mean Using Numpy**"
      ],
      "metadata": {
        "id": "b5fFTrlTMPKq"
      }
    },
    {
      "cell_type": "code",
      "source": [
        "import numpy as np\n",
        "np.mean(p)"
      ],
      "metadata": {
        "colab": {
          "base_uri": "https://localhost:8080/"
        },
        "id": "xdQmShwrr0Ma",
        "outputId": "6e7fde60-1ad2-4251-d4e3-29b69017e3f7"
      },
      "execution_count": null,
      "outputs": [
        {
          "output_type": "execute_result",
          "data": {
            "text/plain": [
              "10.181818181818182"
            ]
          },
          "metadata": {},
          "execution_count": 4
        }
      ]
    },
    {
      "cell_type": "markdown",
      "source": [
        "## 📗 **Variance**"
      ],
      "metadata": {
        "id": "ca3DzW-yQQQJ"
      }
    },
    {
      "cell_type": "markdown",
      "source": [
        "## 📖 **Variance by creating a function**"
      ],
      "metadata": {
        "id": "EWHRjRt8QW1Q"
      }
    },
    {
      "cell_type": "code",
      "source": [
        "def variance(l):\n",
        "  mean =sum(l)/len(l)\n",
        "\n",
        "  variance = 0\n",
        "  for i in l:\n",
        "    variance = variance+ (mean - i)**2/len(l)\n",
        "\n",
        "  return f\"mean is {mean}  \"   f\" variance is {variance} \""
      ],
      "metadata": {
        "id": "NDHCVhaHNUhY"
      },
      "execution_count": null,
      "outputs": []
    },
    {
      "cell_type": "code",
      "source": [
        "p=[10,12,10,12,10,19,10,9]\n",
        "variance(p)"
      ],
      "metadata": {
        "colab": {
          "base_uri": "https://localhost:8080/",
          "height": 36
        },
        "id": "ZS-WXhMrOKy6",
        "outputId": "393c7a84-b959-4a96-840c-0d172c2d2cff"
      },
      "execution_count": null,
      "outputs": [
        {
          "output_type": "execute_result",
          "data": {
            "text/plain": [
              "'mean is 11.5   variance is 9.0 '"
            ],
            "application/vnd.google.colaboratory.intrinsic+json": {
              "type": "string"
            }
          },
          "metadata": {},
          "execution_count": 4
        }
      ]
    },
    {
      "cell_type": "markdown",
      "source": [
        "## 📖 **Variance using numpy**"
      ],
      "metadata": {
        "id": "AhYBEyVLQa0z"
      }
    },
    {
      "cell_type": "code",
      "source": [
        "import numpy as np\n",
        "print(np.mean(p))\n"
      ],
      "metadata": {
        "colab": {
          "base_uri": "https://localhost:8080/"
        },
        "id": "ErR3JNV5ckxA",
        "outputId": "028a9c3e-7a26-4043-ffd3-9d324a3329ee"
      },
      "execution_count": null,
      "outputs": [
        {
          "output_type": "stream",
          "name": "stdout",
          "text": [
            "11.5\n"
          ]
        }
      ]
    },
    {
      "cell_type": "code",
      "source": [
        "np.var(p)"
      ],
      "metadata": {
        "colab": {
          "base_uri": "https://localhost:8080/"
        },
        "id": "hpEWu3vFdKWi",
        "outputId": "947d3450-6f1f-42c2-cc50-e5b80794d25d"
      },
      "execution_count": null,
      "outputs": [
        {
          "output_type": "execute_result",
          "data": {
            "text/plain": [
              "9.0"
            ]
          },
          "metadata": {},
          "execution_count": 68
        }
      ]
    },
    {
      "cell_type": "markdown",
      "source": [
        "## 📖 **Finding random number**"
      ],
      "metadata": {
        "id": "HnfTICiqsgOA"
      }
    },
    {
      "cell_type": "code",
      "source": [
        "import random\n",
        "random.random()"
      ],
      "metadata": {
        "id": "hukCOnwAs69z",
        "colab": {
          "base_uri": "https://localhost:8080/"
        },
        "outputId": "ad76c8b0-1c27-4bfd-b7bd-8f2f39505313"
      },
      "execution_count": null,
      "outputs": [
        {
          "output_type": "execute_result",
          "data": {
            "text/plain": [
              "0.6861513257783157"
            ]
          },
          "metadata": {},
          "execution_count": 75
        }
      ]
    },
    {
      "cell_type": "markdown",
      "source": [
        "**To find random variable within a range.**"
      ],
      "metadata": {
        "id": "FokEuS5vcmRg"
      }
    },
    {
      "cell_type": "code",
      "source": [
        "random.randint(29,200)"
      ],
      "metadata": {
        "colab": {
          "base_uri": "https://localhost:8080/"
        },
        "id": "t7xmP88Mccyg",
        "outputId": "c5cb914d-a6ba-4a50-9c1b-6fadaf70ccf5"
      },
      "execution_count": null,
      "outputs": [
        {
          "output_type": "execute_result",
          "data": {
            "text/plain": [
              "127"
            ]
          },
          "metadata": {},
          "execution_count": 76
        }
      ]
    },
    {
      "cell_type": "code",
      "source": [
        "random_numbers = np.random.rand(5)"
      ],
      "metadata": {
        "id": "6XQJZqZeBUPF"
      },
      "execution_count": null,
      "outputs": []
    },
    {
      "cell_type": "markdown",
      "source": [
        "#### 📗 **Frequency Distribtion**\n",
        "\n"
      ],
      "metadata": {
        "id": "Ch0iqAjyB4jC"
      }
    },
    {
      "cell_type": "markdown",
      "source": [
        "**Que. Create a frequency distribution table from below**"
      ],
      "metadata": {
        "id": "e_vhXG0zKKWj"
      }
    },
    {
      "cell_type": "code",
      "source": [
        "import numpy as np"
      ],
      "metadata": {
        "id": "5aQUK7jFL7Th"
      },
      "execution_count": null,
      "outputs": []
    },
    {
      "cell_type": "code",
      "source": [
        "Marks = [\n",
        "    85, 92, 67, 89, 72, 95, 81, 55, 76, 94, 67, 79, 90, 83, 98, 74, 65, 91, 82, 96,\n",
        "    73, 86, 77, 99, 68, 93, 80, 75, 84, 97, 70, 89, 60, 91, 76, 88, 94, 79, 85, 72,\n",
        "    97, 74, 93, 71, 96, 83, 78, 90, 69, 87, 95, 81, 98, 80, 75, 92, 84, 77, 86, 99,\n",
        "    68, 94, 73, 89, 79, 91, 82, 96, 71, 83, 88, 74, 97, 39, 92, 44, 78, 81, 93, 80,\n",
        "    34, 59, 89, 99\n",
        "]\n"
      ],
      "metadata": {
        "id": "drBKs_vGHB_C"
      },
      "execution_count": null,
      "outputs": []
    },
    {
      "cell_type": "markdown",
      "source": [
        "**Steps** :\n",
        "\n",
        "* Find highest and lowest observation.\n",
        "* find a Range => highest observation - lowest observation.\n",
        "* Divide the range in class intervals\n",
        "* Classify the obsersation in classe\n",
        "* Count the tally"
      ],
      "metadata": {
        "id": "QDUKJTLWKUOJ"
      }
    },
    {
      "cell_type": "code",
      "source": [
        "HighM =  np.max(Marks)\n",
        "LowM =  np.min(Marks)\n",
        "\n",
        "data_range  = HighM - LowM\n",
        "\n",
        "print(\"highest observation\",HighM)\n",
        "print(\"lowest observation\",LowM)\n",
        "print(\"data_range \",data_range )\n"
      ],
      "metadata": {
        "colab": {
          "base_uri": "https://localhost:8080/"
        },
        "id": "gPxIQp9QKFUM",
        "outputId": "6df622f7-9067-46c9-e33f-6c47cd0629a5"
      },
      "execution_count": null,
      "outputs": [
        {
          "output_type": "stream",
          "name": "stdout",
          "text": [
            "highest observation 99\n",
            "lowest observation 34\n",
            "data_range  65\n"
          ]
        }
      ]
    },
    {
      "cell_type": "markdown",
      "source": [
        "Lowest observation is 34, we will choose"
      ],
      "metadata": {
        "id": "KER2GsQ-M0qP"
      }
    },
    {
      "cell_type": "code",
      "source": [
        "class_intervals = [(30,39),(40,49),(50,59),(60,69),(70,79),(80,89),(90,99)]"
      ],
      "metadata": {
        "id": "jgMGKEE5LYrG"
      },
      "execution_count": null,
      "outputs": []
    },
    {
      "cell_type": "code",
      "source": [
        "import pandas as pd\n",
        "import matplotlib.pyplot as plt\n",
        "\n",
        "# Given marks data\n",
        "marks = [\n",
        "    85, 92, 67, 89, 72, 95, 81, 55, 76, 94, 67, 79, 90, 83, 98, 74, 65, 91, 82, 96,\n",
        "    73, 86, 77, 99, 68, 93, 80, 75, 84, 97, 70, 89, 60, 91, 76, 88, 94, 79, 85, 72,\n",
        "    97, 74, 93, 71, 96, 83, 78, 90, 69, 87, 95, 81, 98, 80, 75, 92, 84, 77, 86, 99,\n",
        "    68, 94, 73, 89, 79, 91, 82, 96, 71, 83, 88, 74, 97, 39, 92, 44, 78, 81, 93, 80,\n",
        "    34, 59, 89, 99\n",
        "]\n",
        "\n",
        "# Calculate range and number of intervals\n",
        "data_range = max(marks) - min(marks)\n",
        "num_classes = int(data_range**0.5)  # Using square root rule for number of classes\n",
        "\n",
        "# Calculate width of each class interval\n",
        "class_width = data_range / num_classes\n",
        "\n",
        "# Create class intervals\n",
        "class_intervals = [min(marks) + i * class_width for i in range(num_classes + 1)]\n",
        "\n",
        "# Create a DataFrame for frequency distribution\n",
        "df = pd.DataFrame()\n",
        "df['Marks'] = marks\n",
        "df['Class Interval'] = pd.cut(df['Marks'], bins=class_intervals, include_lowest=True)\n",
        "\n",
        "# Calculate frequency of each class interval\n",
        "frequency_distribution = df['Class Interval'].value_counts().sort_index()\n",
        "\n",
        "# Plot the histogram\n",
        "\n",
        "plt.figure(figsize=(10,5))\n",
        "plt.bar(frequency_distribution.index.astype(str), frequency_distribution.values, edgecolor='black')\n",
        "plt.xlabel('Class Intervals')\n",
        "plt.ylabel('Frequency')\n",
        "plt.title('Frequency Distribution of Marks')\n",
        "plt.show()\n"
      ],
      "metadata": {
        "colab": {
          "base_uri": "https://localhost:8080/",
          "height": 487
        },
        "id": "OnwJdBVONQte",
        "outputId": "6faa6c9a-fd19-4a82-8c0c-bf00eabb4f6f"
      },
      "execution_count": null,
      "outputs": [
        {
          "output_type": "display_data",
          "data": {
            "text/plain": [
              "<Figure size 1000x500 with 1 Axes>"
            ],
            "image/png": "[encoded data removed]"
          },
          "metadata": {}
        }
      ]
    },
    {
      "cell_type": "code",
      "source": [
        "class_intervals"
      ],
      "metadata": {
        "colab": {
          "base_uri": "https://localhost:8080/"
        },
        "id": "_ssBZokKNeY6",
        "outputId": "ea8e0078-fe20-4e47-b2af-4bc74c198638"
      },
      "execution_count": null,
      "outputs": [
        {
          "output_type": "execute_result",
          "data": {
            "text/plain": [
              "[34.0, 42.125, 50.25, 58.375, 66.5, 74.625, 82.75, 90.875, 99.0]"
            ]
          },
          "metadata": {},
          "execution_count": 14
        }
      ]
    },
    {
      "cell_type": "code",
      "source": [
        "def frequencydi(l):\n",
        "  if i in Marks in(j) in class_intervals"
      ],
      "metadata": {
        "id": "cjge8bhAMLwq"
      },
      "execution_count": null,
      "outputs": []
    },
    {
      "cell_type": "code",
      "source": [
        "number_of_intervals =6\n",
        "interval_width = data_range / number_of_intervals\n",
        "\n",
        "\n",
        "class_intervals = [LowM + i * interval_width for i in range(number_of_intervals + 1)]\n"
      ],
      "metadata": {
        "id": "SM32bDxoM0Od"
      },
      "execution_count": null,
      "outputs": []
    },
    {
      "cell_type": "code",
      "source": [
        "class_intervals"
      ],
      "metadata": {
        "colab": {
          "base_uri": "https://localhost:8080/"
        },
        "id": "YrKNLXoeLN6C",
        "outputId": "fb0df10b-f504-4e7c-9bab-c04d4195e675"
      },
      "execution_count": null,
      "outputs": [
        {
          "output_type": "execute_result",
          "data": {
            "text/plain": [
              "[34.0,\n",
              " 44.833333333333336,\n",
              " 55.66666666666667,\n",
              " 66.5,\n",
              " 77.33333333333334,\n",
              " 88.16666666666667,\n",
              " 99.0]"
            ]
          },
          "metadata": {},
          "execution_count": 10
        }
      ]
    },
    {
      "cell_type": "code",
      "source": [
        "interval_width"
      ],
      "metadata": {
        "colab": {
          "base_uri": "https://localhost:8080/"
        },
        "id": "-mKZpAsFK9N7",
        "outputId": "82447025-2a52-45e7-d439-126281b022a5"
      },
      "execution_count": null,
      "outputs": [
        {
          "output_type": "execute_result",
          "data": {
            "text/plain": [
              "10.833333333333334"
            ]
          },
          "metadata": {},
          "execution_count": 9
        }
      ]
    },
    {
      "cell_type": "markdown",
      "source": [
        "#### 📗 **Outlier Detection**\n",
        "\n"
      ],
      "metadata": {
        "id": "t_OBHKPtfgDy"
      }
    },
    {
      "cell_type": "markdown",
      "source": [
        " **Outliers = Data points which behave against the usual pattern of the data is called outliers.**\n",
        "\n",
        "\n",
        "---\n",
        "\n",
        "\n",
        "\n",
        "**Methods to detect outliers**\n",
        "\n",
        "1.   **Quartile method**\n",
        "2.   **Z score method**\n",
        "3. **Boxplot method**\n",
        "\n",
        "\n",
        "\n",
        "\n"
      ],
      "metadata": {
        "id": "ekfhc9uLSuft"
      }
    },
    {
      "cell_type": "markdown",
      "source": [
        "### 📖  **Quartile method**"
      ],
      "metadata": {
        "id": "bpblujGvTVrx"
      }
    },
    {
      "cell_type": "markdown",
      "source": [
        "\n",
        "**Key concepts** =\n",
        "\n",
        "\n",
        "\n",
        "\n",
        "\n",
        "\n",
        "* Quartiles = Q1, Q2, Q3, Q4\n",
        "*   Inter Quartile Range(IQR) = Q3-Q1\n",
        "\n",
        "*   Lower cutoff point =  Q1-(1.5*(IQR))\n",
        "* Higher cutoff point =  Q3+(1.5*(IQR))\n",
        "\n",
        "\n",
        "\n"
      ],
      "metadata": {
        "id": "57pvfodDQ3pq"
      }
    },
    {
      "cell_type": "markdown",
      "source": [
        "Using And OR: =>\n",
        "\n",
        "**outliers = [((data)<LOWERVALUE)|((data)>higherRVALUE)]**"
      ],
      "metadata": {
        "id": "5kQGxqTKXP2B"
      }
    },
    {
      "cell_type": "code",
      "execution_count": null,
      "metadata": {
        "colab": {
          "base_uri": "https://localhost:8080/"
        },
        "id": "3Z2qXCOrfap3",
        "outputId": "8b4f682c-067a-4d4f-c58a-42df5e3dbb49"
      },
      "outputs": [
        {
          "output_type": "stream",
          "name": "stdout",
          "text": [
            "data = [1, 2, 33, 4, 7, 8, 4, 3, 6, 7, 8, 9, 590, 44, 2, 4, 6, 7, 8, 9, 5, 4, 3, 2, 1, 2, 3, 5, 6, 7, 8, 6]\n",
            "=\n",
            "          \n",
            "Q1 = 3.0\n",
            "Q3 = 8.0\n",
            "====================================================================================================\n",
            "          \n",
            "IQR = 5.0\n",
            "====================================================================================================\n",
            "          \n",
            "outliers = [array([False, False,  True, False, False, False, False, False, False,\n",
            "       False, False, False,  True,  True, False, False, False, False,\n",
            "       False, False, False, False, False, False, False, False, False,\n",
            "       False, False, False, False, False])]\n",
            "====================================================================================================\n",
            "          \n",
            "Original data: 33\n",
            "Data with outliers removed: 32\n"
          ]
        }
      ],
      "source": [
        "# and or\n",
        "\n",
        "import numpy as np\n",
        "data = [1,2,33,4,7,8,4,3,6,7,8,9,590,44,2,4,6,7,8,9,5,4,3,2,1,2,3,5,6,7,8,6]\n",
        "n =len(data)\n",
        "\n",
        "#find Q1,Q3,higher value lower value\n",
        "\n",
        "Q1 = np.percentile(data, 25)\n",
        "Q3 = np.percentile(data, 75)\n",
        "\n",
        "IQR =Q3-Q1\n",
        "\n",
        "LOWERVALUE= Q1-(1.5*(IQR))\n",
        "higherRVALUE= Q3+(1.5*(IQR))\n",
        "\n",
        "outliers = [((data)<LOWERVALUE)|((data)>higherRVALUE)]\n",
        "\n",
        "newdata = [((data)>=LOWERVALUE) & ((data)<=higherRVALUE)]\n",
        "\n",
        "print(f\"data = {data}\")\n",
        "print(\"=\"*1)\n",
        "print(\" \"*10)\n",
        "\n",
        "\n",
        "print(f\"Q1 = {Q1}\")\n",
        "print(f\"Q3 = {Q3}\")\n",
        "print(\"=\"*100)\n",
        "print(\" \"*10)\n",
        "\n",
        "print(f\"IQR = {IQR}\")\n",
        "print(\"=\"*100)\n",
        "print(\" \"*10)\n",
        "\n",
        "print(f\"outliers = {outliers}\")\n",
        "print(\"=\"*100)\n",
        "print(\" \"*10)\n",
        "\n",
        "print(\"Original data:\", len(data) + len(outliers))\n",
        "print(\"Data with outliers removed:\", len(data))"
      ]
    },
    {
      "cell_type": "markdown",
      "source": [
        "Using list comprehension\n",
        "\n",
        "**outliers = [x for x in data if x < LOWERVALUE or x > higherRVALUE]**"
      ],
      "metadata": {
        "id": "ni-WGk6YXkSc"
      }
    },
    {
      "cell_type": "code",
      "source": [
        "import numpy as np\n",
        "\n",
        "data = [1,2,33,4,7,8,4,3,6,7,8,9,590,44,2,4,6,7,8,9,5,4,3,2,1,2,3,5,6,7,8,6]\n",
        "n = len(data)\n",
        "\n",
        "\n",
        "\n",
        "Q1 = np.percentile(data, 25)\n",
        "Q3 = np.percentile(data, 75)\n",
        "IQR = Q3 - Q1\n",
        "\n",
        "LOWERVALUE = Q1 - (1.5 * IQR)\n",
        "higherRVALUE = Q3 + (1.5 * IQR)\n",
        "\n",
        "outliers = [x for x in data if x < LOWERVALUE or x > higherRVALUE]\n",
        "newdata = [x for x in data if x >= LOWERVALUE and x <= higherRVALUE]\n",
        "\n",
        "print(f\"data = {data}\")\n",
        "print(f\"Q1 = {Q1}\")\n",
        "print(f\"Q3 = {Q3}\")\n",
        "print(f\"IQR = {IQR}\")\n",
        "print(f\"outliers = {outliers}\")\n",
        "\n",
        "print(\"Original data:\", len(data))\n",
        "print(\"Data with outliers removed:\", len(newdata))"
      ],
      "metadata": {
        "colab": {
          "base_uri": "https://localhost:8080/"
        },
        "id": "9Bj8ZOCDqFmn",
        "outputId": "9f947fc9-3b8c-4118-d473-77700e84cbfd"
      },
      "execution_count": null,
      "outputs": [
        {
          "output_type": "stream",
          "name": "stdout",
          "text": [
            "data = [1, 2, 33, 4, 7, 8, 4, 3, 6, 7, 8, 9, 590, 44, 2, 4, 6, 7, 8, 9, 5, 4, 3, 2, 1, 2, 3, 5, 6, 7, 8, 6]\n",
            "Q1 = 3.0\n",
            "Q3 = 8.0\n",
            "IQR = 5.0\n",
            "outliers = [33, 590, 44]\n",
            "Original data: 32\n",
            "Data with outliers removed: 29\n"
          ]
        }
      ]
    },
    {
      "cell_type": "code",
      "source": [
        "import numpy as np\n",
        "\n",
        "data = [1,2,33,4,7,8,4,3,6,7,8,9,590,44,2,4,6,7,8,9,5,4,3,2,1,2,3,5,6,7,8,6]\n",
        "\n",
        "print(f\"data = {data}\")\n",
        "print(f\"Mean before removing outliers = {np.mean(data)}\")\n",
        "#=============\n",
        "#find Q1,Q3,higher value lower value,IQR\n",
        "\n",
        "Q1 = np.percentile(data, 25)\n",
        "Q3 = np.percentile(data, 75)\n",
        "\n",
        "print(f\"Q1 = {Q1}\")\n",
        "print(f\"Q3 = {Q3}\")\n",
        "\n",
        "#=============\n",
        "IQR = Q3 - Q1\n",
        "print(f\"IQR = {IQR}\")\n",
        "\n",
        "LOWERVALUE = Q1 - (1.5 * IQR)\n",
        "higherRVALUE = Q3 + (1.5 * IQR)\n",
        "\n",
        "#printing outliers and newdata in the list\n",
        "outliers = [x for x in data if x < LOWERVALUE or x > higherRVALUE]\n",
        "newdata = [x for x in data if x >= LOWERVALUE and x <= higherRVALUE]\n",
        "\n",
        "print(\"                                                            \")\n",
        "print(\"============================================================\")\n",
        "print(\"                                                            \")\n",
        "print(f\"Outliers = {outliers}\")\n",
        "\n",
        "print(\"                                                            \")\n",
        "print(\"============================================================\")\n",
        "print(\"                                                            \")\n",
        "\n",
        "print(f\"New data with outliers removed: {newdata}\")\n",
        "print(f\"Mean after removing outliers = {np.mean(newdata)}\")\n",
        "\n",
        "print(\"                                                            \")\n",
        "\n",
        "print(\"Original data:\", len(data))\n",
        "print(\"Data with outliers removed:\", len(newdata))"
      ],
      "metadata": {
        "colab": {
          "base_uri": "https://localhost:8080/"
        },
        "id": "heau27v2qG2B",
        "outputId": "e87e4bd6-0933-4c12-af6e-bc595508c27a"
      },
      "execution_count": null,
      "outputs": [
        {
          "output_type": "stream",
          "name": "stdout",
          "text": [
            "data = [1, 2, 33, 4, 7, 8, 4, 3, 6, 7, 8, 9, 590, 44, 2, 4, 6, 7, 8, 9, 5, 4, 3, 2, 1, 2, 3, 5, 6, 7, 8, 6]\n",
            "Mean before removing outliers = 25.4375\n",
            "Q1 = 3.0\n",
            "Q3 = 8.0\n",
            "IQR = 5.0\n",
            "                                                            \n",
            "============================================================\n",
            "                                                            \n",
            "Outliers = [33, 590, 44]\n",
            "                                                            \n",
            "============================================================\n",
            "                                                            \n",
            "New data with outliers removed: [1, 2, 4, 7, 8, 4, 3, 6, 7, 8, 9, 2, 4, 6, 7, 8, 9, 5, 4, 3, 2, 1, 2, 3, 5, 6, 7, 8, 6]\n",
            "Mean after removing outliers = 5.068965517241379\n",
            "                                                            \n",
            "Original data: 32\n",
            "Data with outliers removed: 29\n"
          ]
        }
      ]
    },
    {
      "cell_type": "code",
      "source": [
        "#Above code just clean to understand\n",
        "import numpy as np\n",
        "\n",
        "data = [1,2,33,4,7,8,4,3,6,7,8,9,590,44,2,4,6,7,8,9,5,4,3,2,1,2,3,5,6,7,8,6]\n",
        "n = len(data)\n",
        "\n",
        "#find Q1,Q3,higher value lower value\n",
        "\n",
        "Q1 = np.percentile(data, 25)\n",
        "Q3 = np.percentile(data, 75)\n",
        "\n",
        "IQR = Q3 - Q1\n",
        "\n",
        "LOWERVALUE = Q1 - (1.5 * IQR)\n",
        "higherRVALUE = Q3 + (1.5 * IQR)\n",
        "\n",
        "outliers = [x for x in data if x < LOWERVALUE or x > higherRVALUE]\n",
        "newdata = [x for x in data if x >= LOWERVALUE and x <= higherRVALUE]\n",
        "\n",
        "print(f\"data = {data}\")\n",
        "print(f\"Mean before removing outliers = {np.mean(data)}\")\n",
        "print(\"                                                            \")\n",
        "print(f\"Q1 = {Q1}\")\n",
        "print(f\"Q3 = {Q3}\")\n",
        "print(f\"IQR = {IQR}\")\n",
        "print(\"                                                            \")\n",
        "print(\"============================================================\")\n",
        "print(f\"Outliers = {outliers}\")\n",
        "print(\"============================================================\")\n",
        "print(\"                                                            \")\n",
        "print(f\"New data with outliers removed: {newdata}\")\n",
        "print(f\"Mean after removing outliers = {np.mean(newdata)}\")\n",
        "print(\"                                                            \")\n",
        "print(\"Original data:\", len(data))\n",
        "print(\"Data with outliers removed:\", len(newdata))"
      ],
      "metadata": {
        "colab": {
          "base_uri": "https://localhost:8080/"
        },
        "id": "LKJTUHmbrpG1",
        "outputId": "42a84346-cd45-450c-cfec-3acaa1e8c070"
      },
      "execution_count": null,
      "outputs": [
        {
          "output_type": "stream",
          "name": "stdout",
          "text": [
            "data = [1, 2, 33, 4, 7, 8, 4, 3, 6, 7, 8, 9, 590, 44, 2, 4, 6, 7, 8, 9, 5, 4, 3, 2, 1, 2, 3, 5, 6, 7, 8, 6]\n",
            "Mean before removing outliers = 25.4375\n",
            "                                                            \n",
            "Q1 = 3.0\n",
            "Q3 = 8.0\n",
            "IQR = 5.0\n",
            "                                                            \n",
            "============================================================\n",
            "Outliers = [33, 590, 44]\n",
            "============================================================\n",
            "                                                            \n",
            "New data with outliers removed: [1, 2, 4, 7, 8, 4, 3, 6, 7, 8, 9, 2, 4, 6, 7, 8, 9, 5, 4, 3, 2, 1, 2, 3, 5, 6, 7, 8, 6]\n",
            "Mean after removing outliers = 5.068965517241379\n",
            "                                                            \n",
            "Original data: 32\n",
            "Data with outliers removed: 29\n"
          ]
        }
      ]
    },
    {
      "cell_type": "code",
      "source": [
        "data = [-13,-12,-6,-5,3,4,5,6,7,7,8,10,10,11,24,55]\n",
        "\n",
        "import numpy as np\n",
        "\n",
        "q1 =np.percentile(data,25)\n",
        "q3 =np.percentile(data,75)\n",
        "\n",
        "iqr =q3 - q1\n",
        "\n",
        "high =q3 + 1.5*iqr\n",
        "low =q1 - 1.5*iqr\n",
        "\n",
        "\n",
        "\n",
        "outlier =[ x for x in data if x < low or x > high]\n",
        "\n",
        "print(f\"q1 : {q1}\")\n",
        "print(f\"q3 : {q3}\")\n",
        "print(f\"iqr :{iqr}\")\n",
        "print(f\"high {high}\")\n",
        "print(f\"low {low}\")\n",
        "print(f\"outlier {outlier}\")\n",
        "\n",
        "print(len(data))"
      ],
      "metadata": {
        "id": "coaK5j2tHkTy",
        "colab": {
          "base_uri": "https://localhost:8080/"
        },
        "outputId": "14443518-1a4f-4b71-dc20-a894277da1bc"
      },
      "execution_count": null,
      "outputs": [
        {
          "output_type": "stream",
          "name": "stdout",
          "text": [
            "q1 : 1.0\n",
            "q3 : 10.0\n",
            "iqr :9.0\n",
            "high 23.5\n",
            "low -12.5\n",
            "outlier [-13, 24, 55]\n",
            "16\n"
          ]
        }
      ]
    },
    {
      "cell_type": "code",
      "source": [
        "import numpy as np\n",
        "\n",
        "data = [-13,-12,-6,-5,3,4,5,6,7,7,8,10,10,11,24,55]\n",
        "n = len(data)\n",
        "\n",
        "#find Q1,Q3,higher value lower value\n",
        "\n",
        "Q1 = np.percentile(data, 25)\n",
        "Q3 = np.percentile(data, 75)\n",
        "\n",
        "IQR = Q3 - Q1\n",
        "\n",
        "LOWERVALUE = Q1 - (1.5 * IQR)\n",
        "higherRVALUE = Q3 + (1.5 * IQR)\n",
        "\n",
        "#to replacethose values as null\n",
        "\n",
        "outliers = [x for x in data if x < LOWERVALUE or x > higherRVALUE]\n",
        "newdata = [x for x in data if x >= LOWERVALUE and x <= higherRVALUE]\n",
        "\n",
        "\n",
        "\n",
        "print(f\"data = {data}\")\n",
        "print(f\"Mean before removing outliers = {np.mean(data)}\")\n",
        "print(\"                                                            \")\n",
        "print(f\"Q1 = {Q1}\")\n",
        "print(f\"Q3 = {Q3}\")\n",
        "print(f\"IQR = {IQR}\")\n",
        "print(\"                                                            \")\n",
        "print(\"============================================================\")\n",
        "print(f\"Outliers = {outliers}\")\n",
        "print(\"============================================================\")\n",
        "print(\"                                                            \")\n",
        "print(f\"New data with outliers removed: {newdata}\")\n",
        "print(f\"Mean after removing outliers = {np.mean(newdata)}\")\n",
        "print(\"                                                            \")\n",
        "print(\"Original data:\", len(data))\n",
        "print(\"Data with outliers removed:\", len(newdata))\n",
        "np.nan =[x for x in data if x < LOWERVALUE or x > higherRVALUE]\n",
        "print(\"np.nan\",np.nan)"
      ],
      "metadata": {
        "id": "DhqdpXg7ILps",
        "colab": {
          "base_uri": "https://localhost:8080/"
        },
        "outputId": "24aaf31c-354f-4bc2-95b1-aebcc4a0a066"
      },
      "execution_count": null,
      "outputs": [
        {
          "output_type": "stream",
          "name": "stdout",
          "text": [
            "data = [-13, -12, -6, -5, 3, 4, 5, 6, 7, 7, 8, 10, 10, 11, 24, 55]\n",
            "Mean before removing outliers = 7.125\n",
            "                                                            \n",
            "Q1 = 1.0\n",
            "Q3 = 10.0\n",
            "IQR = 9.0\n",
            "                                                            \n",
            "============================================================\n",
            "Outliers = [-13, 24, 55]\n",
            "============================================================\n",
            "                                                            \n",
            "New data with outliers removed: [-12, -6, -5, 3, 4, 5, 6, 7, 7, 8, 10, 10, 11]\n",
            "Mean after removing outliers = 3.6923076923076925\n",
            "                                                            \n",
            "Original data: 16\n",
            "Data with outliers removed: 13\n",
            "np.nan [-13, 24, 55]\n"
          ]
        }
      ]
    },
    {
      "cell_type": "markdown",
      "source": [
        "### 📖  **Boxplot method**"
      ],
      "metadata": {
        "id": "542l1beZZduM"
      }
    },
    {
      "cell_type": "code",
      "source": [
        "import matplotlib.pyplot as plt\n",
        "\n",
        "data = [-13, -12, -6, -5, 3, 4, 5, 6, 7, 7, 8, 10, 10, 11, 24, 55]\n",
        "\n",
        "plt.boxplot(data)\n",
        "\n",
        "plt.title(\"Boxplot of Data\",fontweight =\"bold\")\n",
        "plt.show()\n"
      ],
      "metadata": {
        "id": "QvADXPmwdnUm",
        "colab": {
          "base_uri": "https://localhost:8080/",
          "height": 452
        },
        "outputId": "3a37b3b0-4c6a-4d3d-b5c5-61a00cbdb47a"
      },
      "execution_count": null,
      "outputs": [
        {
          "output_type": "display_data",
          "data": {
            "text/plain": [
              "<Figure size 640x480 with 1 Axes>"
            ],
            "image/png": "[encoded data removed]"
          },
          "metadata": {}
        }
      ]
    },
    {
      "cell_type": "code",
      "source": [
        "\n",
        "Zr = [1,2,4,6,7,12,18,34,77,66,108,99,14,180]\n",
        "\n",
        "\n",
        "#Understanding the basics\n",
        "\n",
        "q1= np.percentile(Zr,25)\n",
        "q3= np.percentile(Zr,75)\n",
        "iqr = q3-q1\n",
        "\n",
        "lo =q1-(1.5*iqr)\n",
        "hi =q3+(1.5*iqr)\n",
        "\n",
        "\n",
        "# below is wrong as used () which is generator expression\n",
        "#i should have used in []\n",
        "# outlier =(x for x in Zr if x < lo or x > hi)\n",
        "\n",
        "outlier =[x for x in Zr if x < lo or x > hi]\n",
        "\n",
        "\n",
        "#Printing our outcome\n",
        "print(\"                                                            \")\n",
        "\n",
        "print(\"========================Summary================================\")\n",
        "print(\"                                                            \")\n",
        "\n",
        "print(\"Q1\",q1)\n",
        "print(\"Q3\",q3)\n",
        "print(\"lower Threshold\",lo)\n",
        "print(\"Higher Threshold\",hi)\n",
        "print(\"interquartile Range\",iqr)\n",
        "print(\"Outlier in our data: \",outlier)\n",
        "\n",
        "print(\"                                                            \")\n",
        "print(\"===============================================================\")\n",
        "#Ploting boxplot\n",
        "\n",
        "plt.boxplot(Zr)\n",
        "plt.title(\"Boxplot of Data\",fontweight =\"bold\")\n",
        "plt.show()"
      ],
      "metadata": {
        "id": "9MuuBp1OrCil",
        "colab": {
          "base_uri": "https://localhost:8080/",
          "height": 643
        },
        "outputId": "fe732573-cfb3-4a68-bda8-d39bfde6e518"
      },
      "execution_count": null,
      "outputs": [
        {
          "output_type": "stream",
          "name": "stdout",
          "text": [
            "                                                            \n",
            "========================Summary================================\n",
            "                                                            \n",
            "Q1 6.25\n",
            "Q3 74.25\n",
            "lower Threshold -95.75\n",
            "Higher Threshold 176.25\n",
            "interquartile Range 68.0\n",
            "Outlier in our data:  [180]\n",
            "                                                            \n",
            "===============================================================\n"
          ]
        },
        {
          "output_type": "display_data",
          "data": {
            "text/plain": [
              "<Figure size 640x480 with 1 Axes>"
            ],
            "image/png": "[encoded data removed]"
          },
          "metadata": {}
        }
      ]
    },
    {
      "cell_type": "markdown",
      "source": [
        "**Miscellaneous Practice**"
      ],
      "metadata": {
        "id": "lV4xsLhidJEQ"
      }
    },
    {
      "cell_type": "code",
      "source": [
        "# finding Sum\n",
        "#create a loop to sum up the numbers in data\n",
        "\n",
        "data = [1,2,33,4,7,8,4,3,6,7,8,9,590,44,2,4,6,7,8,9,5,4,3,2,1,2,3,5,6,7,8,6]\n",
        "sum =0\n",
        "\n",
        "for i in data:\n",
        "  sum = sum +i\n",
        "  i+1\n",
        "\n",
        "print(f\"sum  :{sum}\")\n",
        "\n",
        "################################################\n",
        "\"\"\" 1)Mistake i was doing was I made \"[i]\" which will create a new list vs\n",
        "using only \"i\" will be considered as a single element.\n",
        "\n",
        "my code was\n",
        "\n",
        "data = [1,2,33,4,7,8,4,3,6,7,8,9,590,44,2,4,6,7,8,9,5,4,3,2,1,2,3,5,6,7,8,6]\n",
        "sum =[0] this was just creating new list\n",
        "i needed4eeeqw\n",
        "\n",
        "for i in data:\n",
        "  sum = sum + [i] <<<<=== from 1)\n",
        "  i+1\n",
        "\n",
        "print(f\"sum  :{sum}\")\n",
        "\n",
        "\"\"\""
      ],
      "metadata": {
        "colab": {
          "base_uri": "https://localhost:8080/",
          "height": 72
        },
        "id": "asYcj4QuuvTX",
        "outputId": "295cd1ce-dbe0-4dc2-f506-1b9f857f1d5d"
      },
      "execution_count": null,
      "outputs": [
        {
          "output_type": "stream",
          "name": "stdout",
          "text": [
            "sum  :814\n"
          ]
        },
        {
          "output_type": "execute_result",
          "data": {
            "text/plain": [
              "' 1)Mistake i was doing was I made \"[i]\" which will create a new list vs\\nusing only \"i\" will be considered as a single element.\\n\\nmy code was\\n\\ndata = [1,2,33,4,7,8,4,3,6,7,8,9,590,44,2,4,6,7,8,9,5,4,3,2,1,2,3,5,6,7,8,6]\\nsum =[0] this was just creating new list\\ni needed4eeeqw\\n\\nfor i in data:\\n  sum = sum + [i] <<<<=== from 1)\\n  i+1\\n\\nprint(f\"sum  :{sum}\")\\n\\n'"
            ],
            "application/vnd.google.colaboratory.intrinsic+json": {
              "type": "string"
            }
          },
          "metadata": {},
          "execution_count": 5
        }
      ]
    }
  ]
}